{
 "cells": [
  {
   "attachments": {},
   "cell_type": "markdown",
   "metadata": {},
   "source": [
    "\n",
    "## Make GT for reference\n"
   ]
  },
  {
   "cell_type": "code",
   "execution_count": 1,
   "metadata": {},
   "outputs": [],
   "source": [
    "# env\n",
    "import os\n",
    "import cv2\n",
    "import numpy as np\n",
    "import time\n"
   ]
  },
  {
   "cell_type": "code",
   "execution_count": 15,
   "metadata": {},
   "outputs": [
    {
     "name": "stdout",
     "output_type": "stream",
     "text": [
      "Time elapsed:  8.720263004302979\n"
     ]
    }
   ],
   "source": [
    "# make gt inference (540p)\n",
    "start = time.time()\n",
    "assert os.system(\"python inference.py\") == 0\n",
    "end = time.time()\n",
    "print(\"Time elapsed: \", end - start)"
   ]
  },
  {
   "cell_type": "code",
   "execution_count": 14,
   "metadata": {
    "collapsed": false
   },
   "outputs": [
    {
     "data": {
      "text/plain": [
       "True"
      ]
     },
     "execution_count": 14,
     "metadata": {},
     "output_type": "execute_result"
    }
   ],
   "source": [
    "# compare ref\n",
    "# read check.png and ref.png and compare them with np\n",
    "out = cv2.imread(\"check.png\")\n",
    "ref = cv2.imread(\"ref.png\")\n",
    "np.allclose(out, ref, atol=1, equal_nan=True)"
   ]
  },
  {
   "cell_type": "code",
   "execution_count": 23,
   "metadata": {},
   "outputs": [],
   "source": [
    "gmf_ncnn_out = cv2.imread(r\"D:\\Program\\VSsource\\research\\gmfss-ncnn-vulkan-demo\\images\\out.png\")"
   ]
  },
  {
   "attachments": {},
   "cell_type": "markdown",
   "metadata": {},
   "source": [
    "## gen pt"
   ]
  },
  {
   "attachments": {},
   "cell_type": "markdown",
   "metadata": {},
   "source": [
    "```\n",
    ".\\pnnx.exe D:/60-fps-Project/VFI/GMFSS2NCNN/flownet_288.pt inputshape=[1,3,288,480]f32,[1,3,288,480]f32 device=cpu moduleop=model.gmflow.utils.split_feature,model.gmflow.utils.merge_splits,model.gmflow.utils.convex_upsampling\n",
    "\n",
    "(unable)\n",
    "ncnnoptimize.exe D:\\60-fps-Project\\VFI\\GMFSS2NCNN\\flownet_288.ncnn.param D:\\60-fps-Project\\VFI\\GMFSS2NCNN\\flownet_288.ncnn.bin D:\\60-fps-Project\\VFI\\GMFSS2NCNN\\flownet_288.ncnn.opt.param D:\\60-fps-Project\\VFI\\GMFSS2NCNN\\flownet_288.ncnn.opt.bin 1\n",
    "```\n",
    "\n",
    "copy generated bin to gmfss model dir"
   ]
  },
  {
   "cell_type": "code",
   "execution_count": 24,
   "metadata": {
    "collapsed": false
   },
   "outputs": [
    {
     "data": {
      "text/plain": [
       "False"
      ]
     },
     "execution_count": 24,
     "metadata": {},
     "output_type": "execute_result"
    }
   ],
   "source": [
    "# compare pt with ref pt\n",
    "import numpy as np\n",
    "output = np.load(\"output.npy\")\n",
    "ref = np.load(\"ref_output.npy\")\n",
    "np.allclose(output, ref, atol=1, equal_nan=True)\n"
   ]
  },
  {
   "attachments": {},
   "cell_type": "markdown",
   "metadata": {
    "collapsed": false
   },
   "source": [
    "## Clean pnnx.py"
   ]
  },
  {
   "cell_type": "code",
   "execution_count": null,
   "metadata": {
    "collapsed": false
   },
   "outputs": [],
   "source": [
    "# Useless\n",
    "with open(\"flownet_288_pnnx.py\", 'r', encoding='utf-8') as r:\n",
    "    content = r.read()\n",
    "content = content.replace(\"\", \"\")\n",
    "with open(\"flownet_288_pnnx.py\", 'w', encoding='utf-8') as w:\n",
    "    w.write(content)\n"
   ]
  },
  {
   "attachments": {},
   "cell_type": "markdown",
   "metadata": {},
   "source": [
    "# Edit NCNN Param\n",
    "\n",
    "Replace InstanceNorm\n",
    "```\n",
    "nn\\.InstanceNorm2d(\\s+)(.*?)(\\s+)([\\d+\\s]+)\n",
    "InstanceNorm$1$2$3$4 2=0\n",
    "```\n",
    "\n",
    "after:\n",
    "```python\n",
    "v_964 = F.upsample(input=v_963, align_corners=True, mode='bilinear', scale_factor=(2.000000,2.000000))\n",
    "v_965 = (v_964 * 2)\n",
    "```\n",
    "all split, merge, s=8"
   ]
  },
  {
   "cell_type": "code",
   "execution_count": 53,
   "metadata": {},
   "outputs": [],
   "source": [
    "# flownet\n",
    "import os, shutil, re\n",
    "param_path = \"flownet_288.ncnn.param\"\n",
    "param_bak_path = \"flownet_288.ncnn_bak.param\"\n",
    "if os.path.exists(param_bak_path):\n",
    "    os.remove(param_bak_path)\n",
    "shutil.copy(param_path, param_bak_path)\n",
    "content = \"\"\n",
    "is_s_8 = False\n",
    "with open(param_bak_path, 'r', encoding='utf-8') as r:\n",
    "    for l in r.readlines():\n",
    "        if \"Interp\" in l:\n",
    "            is_s_8 = True\n",
    "        if re.search(\"nn.InstanceNorm2d\", l, re.I):\n",
    "                l = l.replace(\"nn.InstanceNorm2d\", \"InstanceNorm\")\n",
    "                l = f\"{l.strip()} 2=0\\n\"\n",
    "        if is_s_8:\n",
    "            if re.search(\"split_feature|merge_splits\", l, re.I):\n",
    "                l = f\"{l.strip()} 0=8\\n\"\n",
    "        if re.search(\"convex_upsampling\", l, re.I):\n",
    "            l = f\"{l.strip()} 0=4\\n\"\n",
    "        content += l\n",
    "\n",
    "with open(param_path, 'w', encoding='utf-8') as w:\n",
    "    w.write(content)"
   ]
  },
  {
   "attachments": {},
   "cell_type": "markdown",
   "metadata": {},
   "source": [
    "# Compare with PT GT"
   ]
  },
  {
   "cell_type": "code",
   "execution_count": 56,
   "metadata": {},
   "outputs": [
    {
     "name": "stdout",
     "output_type": "stream",
     "text": [
      "9.792 9.803 9.801 9.769 9.846 9.875 9.880 9.884 9.905 9.944 9.982 10.020 9.896 9.916 9.941 9.963 10.041 10.012 10.005 10.004 9.973 9.966 9.928 9.898 9.915 9.889 9.876 9.865 9.819 9.808 9.796 9.784 9.807 9.799 9.789 9.773 9.756 9.735 9.728 9.723 9.737 9.603 9.538 9.533 9.518 9.486 9.440 9.408 9.390 9.380 9.368 9.360 9.355 9.355 9.354 9.353 9.351 9.354 9.357 9.360 9.366 9.374 9.380 9.386 9.390 9.395 9.401 9.409 9.403 9.408 9.415 9.425 9.431 9.437 9.446 9.458 9.464 9.489 9.501 9.505 9.404 9.399 9.393 9.388 9.361 9.347 9.332 9.317 9.354 9.348 9.343 9.338 9.311 9.317 9.321 9.325 9.335 9.335 9.336 9.336 9.322 9.320 9.318 9.315 9.339 9.341 9.345 9.348 9.340 9.358 9.375 9.393 9.392 9.422 9.442 9.467 9.478 9.597 9.643 9.658 9.572 9.572 9.578 9.591 9.658 9.665 9.670 9.674 9.608 9.612 9.613 9.613 9.651 9.618 9.597 9.590 9.590 9.531 9.518 9.514 9.506 9.413 9.308 9.284 9.264 9.248 9.236 9.227 9.183 9.170 9.157 9.142 9.154 9.137 9.120 9.100 9.090 9.075 9.061 9.048 9.041 9.035 9.029 9.019 9.014 9.011\n",
      "9.793 9.804 9.802 9.770 9.847 9.875 9.881 9.884 9.905 9.944 9.982 10.020 9.897 9.917 9.941 9.963 10.041 10.012 10.005 10.004 9.973 9.966 9.928 9.898 9.915 9.890 9.876 9.865 9.820 9.809 9.797 9.785 9.808 9.800 9.790 9.773 9.756 9.735 9.729 9.724 9.737 9.603 9.537 9.532 9.517 9.485 9.440 9.407 9.390 9.379 9.368 9.360 9.356 9.355 9.354 9.353 9.351 9.354 9.357 9.360 9.366 9.374 9.380 9.386 9.390 9.395 9.401 9.409 9.403 9.408 9.415 9.425 9.431 9.437 9.445 9.458 9.464 9.488 9.501 9.505 9.404 9.399 9.393 9.388 9.361 9.347 9.332 9.317 9.355 9.348 9.343 9.338 9.312 9.317 9.321 9.325 9.335 9.336 9.336 9.337 9.323 9.320 9.318 9.315 9.339 9.341 9.345 9.348 9.340 9.358 9.374 9.392 9.392 9.422 9.441 9.465 9.476 9.595 9.640 9.655 9.570 9.570 9.575 9.588 9.656 9.663 9.668 9.672 9.606 9.609 9.611 9.611 9.649 9.616 9.595 9.588 9.588 9.530 9.517 9.513 9.505 9.412 9.309 9.284 9.264 9.248 9.236 9.227 9.183 9.171 9.158 9.143 9.155 9.138 9.121 9.101 9.091 9.076 9.062 9.049 9.042 9.036 9.029 9.020 9.015 9.012\n"
     ]
    }
   ],
   "source": [
    "# flownet\n",
    "import re\n",
    "import numpy as np\n",
    "torch_output_mat = r\"D:\\60-fps-Project\\VFI\\GMFSS2NCNN\\debug4_480.288.1.2_flow_up.txt\"\n",
    "ncnn_output_mat = r\"D:\\Program\\VSsource\\research\\gmfss-ncnn-vulkan-demo\\src\\out\\build\\x64-Debug\\debug2_480.288.1.2_flow_padded.txt\"\n",
    "with open(ncnn_output_mat, 'r', encoding='utf-8') as r:\n",
    "    print(r.read()[-2000:-1000])\n",
    "with open(torch_output_mat, 'r', encoding='utf-8') as r:\n",
    "    print(r.read()[-2000:-1000])"
   ]
  },
  {
   "cell_type": "code",
   "execution_count": null,
   "metadata": {},
   "outputs": [],
   "source": [
    "import re\n",
    "import numpy as np\n",
    "torch_output_mat = r\"D:\\60-fps-Project\\VFI\\GMFSS2NCNN\\debug6_60.36.1.128_merge_splits_top.txt\"\n",
    "ncnn_output_mat = r\"D:\\Program\\VSsource\\research\\gmfss-ncnn-vulkan-demo\\src\\out\\build\\x64-Debug\\debug5_60.36.1.128_merge_splits_top.txt\"\n",
    "ncnn_output_mat = r\"D:\\Program\\VSsource\\research\\gmfss-ncnn-vulkan-demo\\src\\out\\build\\x64-Debug\\debug2_3.3.2.4_testOut.txt\"\n",
    "\n",
    "class PrintData:\n",
    "    def __init__(self, r) -> None:\n",
    "        shape_info = r.readline()\n",
    "        shape_info = re.findall(r\"shape (\\d+) (\\d+) (\\d+) (\\d+)\", shape_info)[0]\n",
    "        self.w, self.h, self.d, self.c = map(int, shape_info)\n",
    "        data = r.readline().split(' ')\n",
    "        data_ = list()\n",
    "        for d in data:\n",
    "            try:\n",
    "                data_.append(float(d))\n",
    "            except:\n",
    "                print(f\"failing: {d}\")\n",
    "        self.data = np.array(data_).astype(np.float32)\n",
    "        self.data = np.pad(self.data, ((0, self.w * self.h * self.d * self.c - len(data_)),), 'constant', constant_values=(0, 0))\n",
    "        self.data = self.data[:self.w * self.h * self.d * self.c].reshape(self.c, self.d, self.h, self.w)\n",
    "\n",
    "# with open(torch_output_mat, 'r', encoding='utf-8') as r:\n",
    "#     torch_output = PrintData(r)\n",
    "with open(ncnn_output_mat, 'r', encoding='utf-8') as r:\n",
    "    ncnn_output = PrintData(r)\n"
   ]
  },
  {
   "cell_type": "code",
   "execution_count": 59,
   "metadata": {},
   "outputs": [
    {
     "name": "stdout",
     "output_type": "stream",
     "text": [
      "0.545\n",
      "0.392\n"
     ]
    }
   ],
   "source": [
    "print(torch_output.data[0, 0, 0, 30])\n",
    "print(ncnn_output.data[0, 0, 0, 30])\n",
    "# torch_output.data.shape"
   ]
  },
  {
   "attachments": {},
   "cell_type": "markdown",
   "metadata": {},
   "source": [
    "# Test Reference"
   ]
  },
  {
   "cell_type": "code",
   "execution_count": 67,
   "metadata": {},
   "outputs": [
    {
     "name": "stdout",
     "output_type": "stream",
     "text": [
      "tensor([[[[[ 0,  1,  2],\n",
      "           [ 6,  7,  8],\n",
      "           [12, 13, 14]],\n",
      "\n",
      "          [[36, 37, 38],\n",
      "           [42, 43, 44],\n",
      "           [48, 49, 50]]],\n",
      "\n",
      "\n",
      "         [[[ 3,  4,  5],\n",
      "           [ 9, 10, 11],\n",
      "           [15, 16, 17]],\n",
      "\n",
      "          [[39, 40, 41],\n",
      "           [45, 46, 47],\n",
      "           [51, 52, 53]]],\n",
      "\n",
      "\n",
      "         [[[18, 19, 20],\n",
      "           [24, 25, 26],\n",
      "           [30, 31, 32]],\n",
      "\n",
      "          [[54, 55, 56],\n",
      "           [60, 61, 62],\n",
      "           [66, 67, 68]]],\n",
      "\n",
      "\n",
      "         [[[21, 22, 23],\n",
      "           [27, 28, 29],\n",
      "           [33, 34, 35]],\n",
      "\n",
      "          [[57, 58, 59],\n",
      "           [63, 64, 65],\n",
      "           [69, 70, 71]]]]])\n",
      "tensor([[[[ 0,  1,  2,  3,  4,  5],\n",
      "          [ 6,  7,  8,  9, 10, 11],\n",
      "          [12, 13, 14, 15, 16, 17],\n",
      "          [18, 19, 20, 21, 22, 23],\n",
      "          [24, 25, 26, 27, 28, 29],\n",
      "          [30, 31, 32, 33, 34, 35]],\n",
      "\n",
      "         [[36, 37, 38, 39, 40, 41],\n",
      "          [42, 43, 44, 45, 46, 47],\n",
      "          [48, 49, 50, 51, 52, 53],\n",
      "          [54, 55, 56, 57, 58, 59],\n",
      "          [60, 61, 62, 63, 64, 65],\n",
      "          [66, 67, 68, 69, 70, 71]]]])\n"
     ]
    }
   ],
   "source": [
    "import torch\n",
    "from model.gmflow.utils import split_feature, merge_splits, convex_upsampling\n",
    "# generate (2,2,1,2) tensor\n",
    "feat = torch.arange(0, 72).reshape(1, 2, 6, 6)\n",
    "splits = split_feature()(feat, 2)\n",
    "print(splits)\n",
    "\n",
    "merged = merge_splits()(splits, 2)\n",
    "print(merged)\n"
   ]
  },
  {
   "cell_type": "code",
   "execution_count": 68,
   "metadata": {},
   "outputs": [
    {
     "name": "stdout",
     "output_type": "stream",
     "text": [
      "tensor([[[[ 0,  1,  2,  3,  4,  5],\n",
      "          [ 6,  7,  8,  9, 10, 11],\n",
      "          [12, 13, 14, 15, 16, 17],\n",
      "          [18, 19, 20, 21, 22, 23]],\n",
      "\n",
      "         [[24, 25, 26, 27, 28, 29],\n",
      "          [30, 31, 32, 33, 34, 35],\n",
      "          [36, 37, 38, 39, 40, 41],\n",
      "          [42, 43, 44, 45, 46, 47]]]])\n",
      "tensor([[[[ 0,  6,  1,  7,  2,  8],\n",
      "          [12, 18, 13, 19, 14, 20],\n",
      "          [ 3,  9,  4, 10,  5, 11],\n",
      "          [15, 21, 16, 22, 17, 23]],\n",
      "\n",
      "         [[24, 30, 25, 31, 26, 32],\n",
      "          [36, 42, 37, 43, 38, 44],\n",
      "          [27, 33, 28, 34, 29, 35],\n",
      "          [39, 45, 40, 46, 41, 47]]]])\n"
     ]
    }
   ],
   "source": [
    "flow = torch.arange(0, 12).reshape(1, 2, 2, 3)\n",
    "up_flow = torch.arange(0, 48).reshape(1, 2, 2*2, 2*3)\n",
    "print(up_flow)\n",
    "up_flow = convex_upsampling(2)(flow, up_flow)\n",
    "print(up_flow)\n",
    "\n"
   ]
  },
  {
   "cell_type": "code",
   "execution_count": 6,
   "metadata": {},
   "outputs": [
    {
     "name": "stderr",
     "output_type": "stream",
     "text": [
      "c:\\Users\\Administrator\\AppData\\Local\\Programs\\Python\\Python39\\lib\\site-packages\\torchvision\\models\\_utils.py:208: UserWarning: The parameter 'pretrained' is deprecated since 0.13 and may be removed in the future, please use 'weights' instead.\n",
      "  warnings.warn(\n",
      "c:\\Users\\Administrator\\AppData\\Local\\Programs\\Python\\Python39\\lib\\site-packages\\torchvision\\models\\_utils.py:223: UserWarning: Arguments other than a weight enum or `None` for 'weights' are deprecated since 0.13 and may be removed in the future. The current behavior is equivalent to passing `weights=None`.\n",
      "  warnings.warn(msg)\n"
     ]
    }
   ],
   "source": [
    "import torch\n",
    "import torchvision.models as models\n",
    "\n",
    "net = models.resnet18(pretrained=False)\n",
    "net = net.eval()\n",
    "\n",
    "x = torch.rand(1, 3, 224, 224)\n",
    "\n",
    "# You could try disabling checking when tracing raises error\n",
    "# mod = torch.jit.trace(net, x, check_trace=False)\n",
    "mod = torch.jit.trace(net, x)\n",
    "\n",
    "mod.save(\"resnet18.pt\")"
   ]
  }
 ],
 "metadata": {
  "kernelspec": {
   "display_name": "Python 3",
   "language": "python",
   "name": "python3"
  },
  "language_info": {
   "codemirror_mode": {
    "name": "ipython",
    "version": 3
   },
   "file_extension": ".py",
   "mimetype": "text/x-python",
   "name": "python",
   "nbconvert_exporter": "python",
   "pygments_lexer": "ipython3",
   "version": "3.7.9"
  },
  "orig_nbformat": 4
 },
 "nbformat": 4,
 "nbformat_minor": 2
}
